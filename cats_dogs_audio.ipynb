{
  "nbformat": 4,
  "nbformat_minor": 0,
  "metadata": {
    "colab": {
      "name": "cats_dogs_audio.ipynb",
      "provenance": [],
      "collapsed_sections": [],
      "include_colab_link": true
    },
    "kernelspec": {
      "name": "python3",
      "display_name": "Python 3"
    },
    "language_info": {
      "name": "python"
    }
  },
  "cells": [
    {
      "cell_type": "markdown",
      "metadata": {
        "id": "view-in-github",
        "colab_type": "text"
      },
      "source": [
        "<a href=\"https://colab.research.google.com/github/AsmitaWankhade/Cats-and-dogs-audio-classification/blob/main/cats_dogs_audio.ipynb\" target=\"_parent\"><img src=\"https://colab.research.google.com/assets/colab-badge.svg\" alt=\"Open In Colab\"/></a>"
      ]
    },
    {
      "cell_type": "code",
      "execution_count": null,
      "metadata": {
        "id": "3Q5_7JsBp4lJ"
      },
      "outputs": [],
      "source": [
        "#importing libraries\n",
        "\n",
        "import numpy as np\n",
        "import pandas as pd"
      ]
    },
    {
      "cell_type": "code",
      "source": [
        "import librosa \n",
        "import tensorflow as tf\n",
        "import librosa.display\n",
        "import matplotlib.pyplot as plt\n",
        "import seaborn as sns\n",
        "from sklearn.preprocessing import LabelEncoder,OneHotEncoder\n",
        "import tensorflow.keras.layers as layers\n",
        "from sklearn.metrics import confusion_matrix,classification_report,accuracy_score,f1_score"
      ],
      "metadata": {
        "id": "wAcnIamHqMym"
      },
      "execution_count": null,
      "outputs": []
    },
    {
      "cell_type": "code",
      "source": [
        "from google.colab import drive\n",
        "drive.mount('/content/drive')"
      ],
      "metadata": {
        "colab": {
          "base_uri": "https://localhost:8080/"
        },
        "id": "6Yv22jalt1As",
        "outputId": "bc48af73-c0e4-4ae5-97e7-24a93089bee0"
      },
      "execution_count": null,
      "outputs": [
        {
          "output_type": "stream",
          "name": "stdout",
          "text": [
            "Mounted at /content/drive\n"
          ]
        }
      ]
    },
    {
      "cell_type": "code",
      "source": [
        "import os\n",
        "\n",
        "ID=[]\n",
        "label=[]\n",
        "# assign directory\n",
        "directory = '/content/drive/MyDrive/cats_dogs/train/'\n",
        " \n",
        "\n",
        "for folder in os.listdir(directory):                               \n",
        "    for filename in os.listdir(directory+str(folder)):          \n",
        "        f = os.path.join(directory+str(folder), filename)    \n",
        "        if os.path.isfile(f):\n",
        "            ID.append(f.split('/')[-1])\n",
        "            label.append(f.split('/')[-2])"
      ],
      "metadata": {
        "id": "GIb9f8Pcr5xj"
      },
      "execution_count": null,
      "outputs": []
    },
    {
      "cell_type": "code",
      "source": [
        "train_data=pd.DataFrame()\n",
        "train_data['ID']=ID\n",
        "train_data['label']=label"
      ],
      "metadata": {
        "id": "OGrfT5SasGRq"
      },
      "execution_count": null,
      "outputs": []
    },
    {
      "cell_type": "code",
      "source": [
        "train_data"
      ],
      "metadata": {
        "id": "ZcW8SO2WsGYp",
        "colab": {
          "base_uri": "https://localhost:8080/",
          "height": 424
        },
        "outputId": "78ca06fb-210b-4cae-b88c-949f105f17da"
      },
      "execution_count": null,
      "outputs": [
        {
          "output_type": "execute_result",
          "data": {
            "text/plain": [
              "                      ID label\n",
              "0     dog_barking_61.wav   dog\n",
              "1     dog_barking_52.wav   dog\n",
              "2    dog_barking_107.wav   dog\n",
              "3     dog_barking_11.wav   dog\n",
              "4      dog_barking_5.wav   dog\n",
              "..                   ...   ...\n",
              "205           cat_99.wav   cat\n",
              "206           cat_96.wav   cat\n",
              "207           cat_81.wav   cat\n",
              "208           cat_83.wav   cat\n",
              "209           cat_94.wav   cat\n",
              "\n",
              "[210 rows x 2 columns]"
            ],
            "text/html": [
              "\n",
              "  <div id=\"df-6d2e7de6-8b4a-4a40-9e30-14db4c26ecc6\">\n",
              "    <div class=\"colab-df-container\">\n",
              "      <div>\n",
              "<style scoped>\n",
              "    .dataframe tbody tr th:only-of-type {\n",
              "        vertical-align: middle;\n",
              "    }\n",
              "\n",
              "    .dataframe tbody tr th {\n",
              "        vertical-align: top;\n",
              "    }\n",
              "\n",
              "    .dataframe thead th {\n",
              "        text-align: right;\n",
              "    }\n",
              "</style>\n",
              "<table border=\"1\" class=\"dataframe\">\n",
              "  <thead>\n",
              "    <tr style=\"text-align: right;\">\n",
              "      <th></th>\n",
              "      <th>ID</th>\n",
              "      <th>label</th>\n",
              "    </tr>\n",
              "  </thead>\n",
              "  <tbody>\n",
              "    <tr>\n",
              "      <th>0</th>\n",
              "      <td>dog_barking_61.wav</td>\n",
              "      <td>dog</td>\n",
              "    </tr>\n",
              "    <tr>\n",
              "      <th>1</th>\n",
              "      <td>dog_barking_52.wav</td>\n",
              "      <td>dog</td>\n",
              "    </tr>\n",
              "    <tr>\n",
              "      <th>2</th>\n",
              "      <td>dog_barking_107.wav</td>\n",
              "      <td>dog</td>\n",
              "    </tr>\n",
              "    <tr>\n",
              "      <th>3</th>\n",
              "      <td>dog_barking_11.wav</td>\n",
              "      <td>dog</td>\n",
              "    </tr>\n",
              "    <tr>\n",
              "      <th>4</th>\n",
              "      <td>dog_barking_5.wav</td>\n",
              "      <td>dog</td>\n",
              "    </tr>\n",
              "    <tr>\n",
              "      <th>...</th>\n",
              "      <td>...</td>\n",
              "      <td>...</td>\n",
              "    </tr>\n",
              "    <tr>\n",
              "      <th>205</th>\n",
              "      <td>cat_99.wav</td>\n",
              "      <td>cat</td>\n",
              "    </tr>\n",
              "    <tr>\n",
              "      <th>206</th>\n",
              "      <td>cat_96.wav</td>\n",
              "      <td>cat</td>\n",
              "    </tr>\n",
              "    <tr>\n",
              "      <th>207</th>\n",
              "      <td>cat_81.wav</td>\n",
              "      <td>cat</td>\n",
              "    </tr>\n",
              "    <tr>\n",
              "      <th>208</th>\n",
              "      <td>cat_83.wav</td>\n",
              "      <td>cat</td>\n",
              "    </tr>\n",
              "    <tr>\n",
              "      <th>209</th>\n",
              "      <td>cat_94.wav</td>\n",
              "      <td>cat</td>\n",
              "    </tr>\n",
              "  </tbody>\n",
              "</table>\n",
              "<p>210 rows × 2 columns</p>\n",
              "</div>\n",
              "      <button class=\"colab-df-convert\" onclick=\"convertToInteractive('df-6d2e7de6-8b4a-4a40-9e30-14db4c26ecc6')\"\n",
              "              title=\"Convert this dataframe to an interactive table.\"\n",
              "              style=\"display:none;\">\n",
              "        \n",
              "  <svg xmlns=\"http://www.w3.org/2000/svg\" height=\"24px\"viewBox=\"0 0 24 24\"\n",
              "       width=\"24px\">\n",
              "    <path d=\"M0 0h24v24H0V0z\" fill=\"none\"/>\n",
              "    <path d=\"M18.56 5.44l.94 2.06.94-2.06 2.06-.94-2.06-.94-.94-2.06-.94 2.06-2.06.94zm-11 1L8.5 8.5l.94-2.06 2.06-.94-2.06-.94L8.5 2.5l-.94 2.06-2.06.94zm10 10l.94 2.06.94-2.06 2.06-.94-2.06-.94-.94-2.06-.94 2.06-2.06.94z\"/><path d=\"M17.41 7.96l-1.37-1.37c-.4-.4-.92-.59-1.43-.59-.52 0-1.04.2-1.43.59L10.3 9.45l-7.72 7.72c-.78.78-.78 2.05 0 2.83L4 21.41c.39.39.9.59 1.41.59.51 0 1.02-.2 1.41-.59l7.78-7.78 2.81-2.81c.8-.78.8-2.07 0-2.86zM5.41 20L4 18.59l7.72-7.72 1.47 1.35L5.41 20z\"/>\n",
              "  </svg>\n",
              "      </button>\n",
              "      \n",
              "  <style>\n",
              "    .colab-df-container {\n",
              "      display:flex;\n",
              "      flex-wrap:wrap;\n",
              "      gap: 12px;\n",
              "    }\n",
              "\n",
              "    .colab-df-convert {\n",
              "      background-color: #E8F0FE;\n",
              "      border: none;\n",
              "      border-radius: 50%;\n",
              "      cursor: pointer;\n",
              "      display: none;\n",
              "      fill: #1967D2;\n",
              "      height: 32px;\n",
              "      padding: 0 0 0 0;\n",
              "      width: 32px;\n",
              "    }\n",
              "\n",
              "    .colab-df-convert:hover {\n",
              "      background-color: #E2EBFA;\n",
              "      box-shadow: 0px 1px 2px rgba(60, 64, 67, 0.3), 0px 1px 3px 1px rgba(60, 64, 67, 0.15);\n",
              "      fill: #174EA6;\n",
              "    }\n",
              "\n",
              "    [theme=dark] .colab-df-convert {\n",
              "      background-color: #3B4455;\n",
              "      fill: #D2E3FC;\n",
              "    }\n",
              "\n",
              "    [theme=dark] .colab-df-convert:hover {\n",
              "      background-color: #434B5C;\n",
              "      box-shadow: 0px 1px 3px 1px rgba(0, 0, 0, 0.15);\n",
              "      filter: drop-shadow(0px 1px 2px rgba(0, 0, 0, 0.3));\n",
              "      fill: #FFFFFF;\n",
              "    }\n",
              "  </style>\n",
              "\n",
              "      <script>\n",
              "        const buttonEl =\n",
              "          document.querySelector('#df-6d2e7de6-8b4a-4a40-9e30-14db4c26ecc6 button.colab-df-convert');\n",
              "        buttonEl.style.display =\n",
              "          google.colab.kernel.accessAllowed ? 'block' : 'none';\n",
              "\n",
              "        async function convertToInteractive(key) {\n",
              "          const element = document.querySelector('#df-6d2e7de6-8b4a-4a40-9e30-14db4c26ecc6');\n",
              "          const dataTable =\n",
              "            await google.colab.kernel.invokeFunction('convertToInteractive',\n",
              "                                                     [key], {});\n",
              "          if (!dataTable) return;\n",
              "\n",
              "          const docLinkHtml = 'Like what you see? Visit the ' +\n",
              "            '<a target=\"_blank\" href=https://colab.research.google.com/notebooks/data_table.ipynb>data table notebook</a>'\n",
              "            + ' to learn more about interactive tables.';\n",
              "          element.innerHTML = '';\n",
              "          dataTable['output_type'] = 'display_data';\n",
              "          await google.colab.output.renderOutput(dataTable, element);\n",
              "          const docLink = document.createElement('div');\n",
              "          docLink.innerHTML = docLinkHtml;\n",
              "          element.appendChild(docLink);\n",
              "        }\n",
              "      </script>\n",
              "    </div>\n",
              "  </div>\n",
              "  "
            ]
          },
          "metadata": {},
          "execution_count": 67
        }
      ]
    },
    {
      "cell_type": "code",
      "source": [
        "#count values of each class to see if data is imbalanced\n",
        "\n",
        "plt.figure(figsize=(8,6),dpi=80)\n",
        "sns.set_theme(style=\"darkgrid\")\n",
        "sns.countplot('label',data=train_data)\n",
        "plt.title('counts: \\n' +'dogs:'+str(train_data.label.value_counts()[1])+\n",
        "          '\\n cats:'+str(train_data.label.value_counts()[0]))\n",
        "plt.show()"
      ],
      "metadata": {
        "id": "74A0fKVHsGc2",
        "colab": {
          "base_uri": "https://localhost:8080/",
          "height": 538
        },
        "outputId": "524af92f-3a6e-4826-935c-e6394e834dc9"
      },
      "execution_count": null,
      "outputs": [
        {
          "output_type": "stream",
          "name": "stderr",
          "text": [
            "/usr/local/lib/python3.7/dist-packages/seaborn/_decorators.py:43: FutureWarning: Pass the following variable as a keyword arg: x. From version 0.12, the only valid positional argument will be `data`, and passing other arguments without an explicit keyword will result in an error or misinterpretation.\n",
            "  FutureWarning\n"
          ]
        },
        {
          "output_type": "display_data",
          "data": {
            "text/plain": [
              "<Figure size 640x480 with 1 Axes>"
            ],
            "image/png": "[encoded data removed]"
          },
          "metadata": {}
        }
      ]
    },
    {
      "cell_type": "code",
      "source": [
        "ID=[]\n",
        "label=[]\n",
        "# import required module\n",
        "import os\n",
        "# assign directory\n",
        "directory = '/content/drive/MyDrive/cats_dogs/test/'\n",
        " \n",
        "# iterate over files in\n",
        "# that directory\n",
        "\n",
        "for folder in os.listdir(directory):\n",
        "    for filename in os.listdir(directory+str(folder)):\n",
        "        f = os.path.join(directory+str(folder), filename)\n",
        "        if os.path.isfile(f):\n",
        "            ID.append(f.split('/')[-1])\n",
        "            label.append(f.split('/')[-2])"
      ],
      "metadata": {
        "id": "Gm1ooqYJsGe9"
      },
      "execution_count": null,
      "outputs": []
    },
    {
      "cell_type": "code",
      "source": [
        "test_data=pd.DataFrame()\n",
        "test_data['ID']=ID\n",
        "test_data['label']=label\n",
        "test_data"
      ],
      "metadata": {
        "id": "NJIP36n1sGhw",
        "colab": {
          "base_uri": "https://localhost:8080/",
          "height": 424
        },
        "outputId": "ea1a06b4-4e74-481c-9fd5-49bfce7608c6"
      },
      "execution_count": null,
      "outputs": [
        {
          "output_type": "execute_result",
          "data": {
            "text/plain": [
              "                    ID label\n",
              "0          cat_148.wav  cats\n",
              "1          cat_133.wav  cats\n",
              "2           cat_14.wav  cats\n",
              "3          cat_135.wav  cats\n",
              "4          cat_130.wav  cats\n",
              "..                 ...   ...\n",
              "62  dog_barking_34.wav  dogs\n",
              "63  dog_barking_46.wav  dogs\n",
              "64  dog_barking_62.wav  dogs\n",
              "65  dog_barking_59.wav  dogs\n",
              "66   dog_barking_9.wav  dogs\n",
              "\n",
              "[67 rows x 2 columns]"
            ],
            "text/html": [
              "\n",
              "  <div id=\"df-dad64bc4-5527-419b-9f4d-a014d7c146b8\">\n",
              "    <div class=\"colab-df-container\">\n",
              "      <div>\n",
              "<style scoped>\n",
              "    .dataframe tbody tr th:only-of-type {\n",
              "        vertical-align: middle;\n",
              "    }\n",
              "\n",
              "    .dataframe tbody tr th {\n",
              "        vertical-align: top;\n",
              "    }\n",
              "\n",
              "    .dataframe thead th {\n",
              "        text-align: right;\n",
              "    }\n",
              "</style>\n",
              "<table border=\"1\" class=\"dataframe\">\n",
              "  <thead>\n",
              "    <tr style=\"text-align: right;\">\n",
              "      <th></th>\n",
              "      <th>ID</th>\n",
              "      <th>label</th>\n",
              "    </tr>\n",
              "  </thead>\n",
              "  <tbody>\n",
              "    <tr>\n",
              "      <th>0</th>\n",
              "      <td>cat_148.wav</td>\n",
              "      <td>cats</td>\n",
              "    </tr>\n",
              "    <tr>\n",
              "      <th>1</th>\n",
              "      <td>cat_133.wav</td>\n",
              "      <td>cats</td>\n",
              "    </tr>\n",
              "    <tr>\n",
              "      <th>2</th>\n",
              "      <td>cat_14.wav</td>\n",
              "      <td>cats</td>\n",
              "    </tr>\n",
              "    <tr>\n",
              "      <th>3</th>\n",
              "      <td>cat_135.wav</td>\n",
              "      <td>cats</td>\n",
              "    </tr>\n",
              "    <tr>\n",
              "      <th>4</th>\n",
              "      <td>cat_130.wav</td>\n",
              "      <td>cats</td>\n",
              "    </tr>\n",
              "    <tr>\n",
              "      <th>...</th>\n",
              "      <td>...</td>\n",
              "      <td>...</td>\n",
              "    </tr>\n",
              "    <tr>\n",
              "      <th>62</th>\n",
              "      <td>dog_barking_34.wav</td>\n",
              "      <td>dogs</td>\n",
              "    </tr>\n",
              "    <tr>\n",
              "      <th>63</th>\n",
              "      <td>dog_barking_46.wav</td>\n",
              "      <td>dogs</td>\n",
              "    </tr>\n",
              "    <tr>\n",
              "      <th>64</th>\n",
              "      <td>dog_barking_62.wav</td>\n",
              "      <td>dogs</td>\n",
              "    </tr>\n",
              "    <tr>\n",
              "      <th>65</th>\n",
              "      <td>dog_barking_59.wav</td>\n",
              "      <td>dogs</td>\n",
              "    </tr>\n",
              "    <tr>\n",
              "      <th>66</th>\n",
              "      <td>dog_barking_9.wav</td>\n",
              "      <td>dogs</td>\n",
              "    </tr>\n",
              "  </tbody>\n",
              "</table>\n",
              "<p>67 rows × 2 columns</p>\n",
              "</div>\n",
              "      <button class=\"colab-df-convert\" onclick=\"convertToInteractive('df-dad64bc4-5527-419b-9f4d-a014d7c146b8')\"\n",
              "              title=\"Convert this dataframe to an interactive table.\"\n",
              "              style=\"display:none;\">\n",
              "        \n",
              "  <svg xmlns=\"http://www.w3.org/2000/svg\" height=\"24px\"viewBox=\"0 0 24 24\"\n",
              "       width=\"24px\">\n",
              "    <path d=\"M0 0h24v24H0V0z\" fill=\"none\"/>\n",
              "    <path d=\"M18.56 5.44l.94 2.06.94-2.06 2.06-.94-2.06-.94-.94-2.06-.94 2.06-2.06.94zm-11 1L8.5 8.5l.94-2.06 2.06-.94-2.06-.94L8.5 2.5l-.94 2.06-2.06.94zm10 10l.94 2.06.94-2.06 2.06-.94-2.06-.94-.94-2.06-.94 2.06-2.06.94z\"/><path d=\"M17.41 7.96l-1.37-1.37c-.4-.4-.92-.59-1.43-.59-.52 0-1.04.2-1.43.59L10.3 9.45l-7.72 7.72c-.78.78-.78 2.05 0 2.83L4 21.41c.39.39.9.59 1.41.59.51 0 1.02-.2 1.41-.59l7.78-7.78 2.81-2.81c.8-.78.8-2.07 0-2.86zM5.41 20L4 18.59l7.72-7.72 1.47 1.35L5.41 20z\"/>\n",
              "  </svg>\n",
              "      </button>\n",
              "      \n",
              "  <style>\n",
              "    .colab-df-container {\n",
              "      display:flex;\n",
              "      flex-wrap:wrap;\n",
              "      gap: 12px;\n",
              "    }\n",
              "\n",
              "    .colab-df-convert {\n",
              "      background-color: #E8F0FE;\n",
              "      border: none;\n",
              "      border-radius: 50%;\n",
              "      cursor: pointer;\n",
              "      display: none;\n",
              "      fill: #1967D2;\n",
              "      height: 32px;\n",
              "      padding: 0 0 0 0;\n",
              "      width: 32px;\n",
              "    }\n",
              "\n",
              "    .colab-df-convert:hover {\n",
              "      background-color: #E2EBFA;\n",
              "      box-shadow: 0px 1px 2px rgba(60, 64, 67, 0.3), 0px 1px 3px 1px rgba(60, 64, 67, 0.15);\n",
              "      fill: #174EA6;\n",
              "    }\n",
              "\n",
              "    [theme=dark] .colab-df-convert {\n",
              "      background-color: #3B4455;\n",
              "      fill: #D2E3FC;\n",
              "    }\n",
              "\n",
              "    [theme=dark] .colab-df-convert:hover {\n",
              "      background-color: #434B5C;\n",
              "      box-shadow: 0px 1px 3px 1px rgba(0, 0, 0, 0.15);\n",
              "      filter: drop-shadow(0px 1px 2px rgba(0, 0, 0, 0.3));\n",
              "      fill: #FFFFFF;\n",
              "    }\n",
              "  </style>\n",
              "\n",
              "      <script>\n",
              "        const buttonEl =\n",
              "          document.querySelector('#df-dad64bc4-5527-419b-9f4d-a014d7c146b8 button.colab-df-convert');\n",
              "        buttonEl.style.display =\n",
              "          google.colab.kernel.accessAllowed ? 'block' : 'none';\n",
              "\n",
              "        async function convertToInteractive(key) {\n",
              "          const element = document.querySelector('#df-dad64bc4-5527-419b-9f4d-a014d7c146b8');\n",
              "          const dataTable =\n",
              "            await google.colab.kernel.invokeFunction('convertToInteractive',\n",
              "                                                     [key], {});\n",
              "          if (!dataTable) return;\n",
              "\n",
              "          const docLinkHtml = 'Like what you see? Visit the ' +\n",
              "            '<a target=\"_blank\" href=https://colab.research.google.com/notebooks/data_table.ipynb>data table notebook</a>'\n",
              "            + ' to learn more about interactive tables.';\n",
              "          element.innerHTML = '';\n",
              "          dataTable['output_type'] = 'display_data';\n",
              "          await google.colab.output.renderOutput(dataTable, element);\n",
              "          const docLink = document.createElement('div');\n",
              "          docLink.innerHTML = docLinkHtml;\n",
              "          element.appendChild(docLink);\n",
              "        }\n",
              "      </script>\n",
              "    </div>\n",
              "  </div>\n",
              "  "
            ]
          },
          "metadata": {},
          "execution_count": 70
        }
      ]
    },
    {
      "cell_type": "code",
      "source": [
        "# extract features using librosa library\n",
        "#mfcc -In audio pre-processing, Mel frequency is a representation of short term power spectrum of sound. Audio sample is converted to mel-\n",
        "#freuency coefficients using : mel(f)=2595*log(1+f/700)\n",
        "def extract_features(directory):\n",
        "    features=[]\n",
        "    ID=[]\n",
        "    for folder in os.listdir(directory):\n",
        "        for filename in os.listdir(directory+str(folder)):\n",
        "            f = os.path.join(directory+str(folder), filename)\n",
        "            if os.path.isfile(f):\n",
        "                x,sr=librosa.load(f, res_type='kaiser_fast',sr=None)\n",
        "                mfccs=np.mean(librosa.feature.mfcc(x,sr=sr,n_mfcc=100).T,axis=0)\n",
        "                features.append(mfccs)\n",
        "                ID.append(f.split('/')[-1])\n",
        "    return [ID, features]"
      ],
      "metadata": {
        "id": "PjGVX3G7sGkq"
      },
      "execution_count": null,
      "outputs": []
    },
    {
      "cell_type": "code",
      "source": [
        "ID, features_train=extract_features('/content/drive/MyDrive/cats_dogs/train/')\n",
        "print(np.count_nonzero(train_data.ID==ID) )\n",
        "#checking for null values\n",
        "#the ablove thing should be equal to the original shape of ID's in train_data\n",
        "\n",
        "len(train_data.ID)==np.count_nonzero(train_data.ID==ID) "
      ],
      "metadata": {
        "id": "gOtuUYzlsGoC",
        "colab": {
          "base_uri": "https://localhost:8080/"
        },
        "outputId": "98188eba-5bb7-45a0-990f-c31e06ed9745"
      },
      "execution_count": null,
      "outputs": [
        {
          "output_type": "stream",
          "name": "stdout",
          "text": [
            "210\n"
          ]
        },
        {
          "output_type": "execute_result",
          "data": {
            "text/plain": [
              "True"
            ]
          },
          "metadata": {},
          "execution_count": 76
        }
      ]
    },
    {
      "cell_type": "code",
      "source": [
        "ID,features_test=extract_features('/content/drive/MyDrive/cats_dogs/test/')\n",
        "\n",
        "len(test_data.ID)==np.count_nonzero(test_data.ID==ID)   #matched "
      ],
      "metadata": {
        "colab": {
          "base_uri": "https://localhost:8080/"
        },
        "id": "p7zWBzhuwI0B",
        "outputId": "84094d2e-7380-4a36-881f-85cdfed8d91a"
      },
      "execution_count": null,
      "outputs": [
        {
          "output_type": "execute_result",
          "data": {
            "text/plain": [
              "True"
            ]
          },
          "metadata": {},
          "execution_count": 77
        }
      ]
    },
    {
      "cell_type": "code",
      "source": [
        "#extracted features are used for training the data\n",
        "X_train=np.array(features_train)\n",
        "X_test=np.array(features_test)"
      ],
      "metadata": {
        "id": "DA88sF5nsu-N"
      },
      "execution_count": null,
      "outputs": []
    },
    {
      "cell_type": "code",
      "source": [
        "Y_train=train_data.label\n",
        "Y_test=test_data.label\n",
        "\n",
        "le=LabelEncoder()\n",
        "\n",
        "temp=le.fit_transform(Y_train)\n",
        "Y_train=temp.reshape(-1,1)\n",
        "\n",
        "temp=le.fit_transform(Y_test)\n",
        "Y_test=temp.reshape(-1,1)\n",
        "\n",
        "\n",
        "print(X_train.shape,X_test.shape)\n",
        "print(Y_train.shape,Y_test.shape)   "
      ],
      "metadata": {
        "id": "WVlIxvCwsvCM",
        "colab": {
          "base_uri": "https://localhost:8080/"
        },
        "outputId": "9d923894-dca1-484e-b351-8c22cfaf93cb"
      },
      "execution_count": null,
      "outputs": [
        {
          "output_type": "stream",
          "name": "stdout",
          "text": [
            "(210, 100) (67, 100)\n",
            "(210, 1) (67, 1)\n"
          ]
        }
      ]
    },
    {
      "cell_type": "code",
      "source": [
        "#neural network model\n"
      ],
      "metadata": {
        "id": "gG-z9YcysvEt"
      },
      "execution_count": null,
      "outputs": []
    },
    {
      "cell_type": "code",
      "source": [
        "model=tf.keras.Sequential()\n",
        "model.add(layers.Dense(input_shape=(100,), units= 200,activation='relu'))\n",
        "#model.add(layers.Dense(200,activation='relu'))\n",
        "model.add(layers.Dense(50,activation='relu'))\n",
        "model.add(layers.Dense(1,activation='sigmoid'))"
      ],
      "metadata": {
        "id": "OJC4hw0dsvHb"
      },
      "execution_count": null,
      "outputs": []
    },
    {
      "cell_type": "code",
      "source": [
        "model.summary()"
      ],
      "metadata": {
        "colab": {
          "base_uri": "https://localhost:8080/"
        },
        "id": "1pCpL0M_2g4Y",
        "outputId": "f48fc200-de1f-487b-b4c3-f5fbc5fe17b4"
      },
      "execution_count": null,
      "outputs": [
        {
          "output_type": "stream",
          "name": "stdout",
          "text": [
            "Model: \"sequential_7\"\n",
            "_________________________________________________________________\n",
            " Layer (type)                Output Shape              Param #   \n",
            "=================================================================\n",
            " dense_26 (Dense)            (None, 200)               20200     \n",
            "                                                                 \n",
            " dense_27 (Dense)            (None, 50)                10050     \n",
            "                                                                 \n",
            " dense_28 (Dense)            (None, 1)                 51        \n",
            "                                                                 \n",
            "=================================================================\n",
            "Total params: 30,301\n",
            "Trainable params: 30,301\n",
            "Non-trainable params: 0\n",
            "_________________________________________________________________\n"
          ]
        }
      ]
    },
    {
      "cell_type": "code",
      "source": [
        "model.compile(optimizer='adam',loss='binary_crossentropy',metrics=['accuracy'])\n"
      ],
      "metadata": {
        "id": "BXCmX15KsvKM"
      },
      "execution_count": null,
      "outputs": []
    },
    {
      "cell_type": "code",
      "source": [
        "hist=model.fit(X_train,Y_train,epochs=30)\n"
      ],
      "metadata": {
        "id": "9vJVClp0svM9",
        "colab": {
          "base_uri": "https://localhost:8080/"
        },
        "outputId": "5c1a2dec-b885-4e26-b729-e16df821bddf"
      },
      "execution_count": null,
      "outputs": [
        {
          "output_type": "stream",
          "name": "stdout",
          "text": [
            "Epoch 1/30\n",
            "7/7 [==============================] - 1s 4ms/step - loss: 6.1327 - accuracy: 0.5286\n",
            "Epoch 2/30\n",
            "7/7 [==============================] - 0s 3ms/step - loss: 1.8231 - accuracy: 0.7571\n",
            "Epoch 3/30\n",
            "7/7 [==============================] - 0s 3ms/step - loss: 1.1900 - accuracy: 0.7810\n",
            "Epoch 4/30\n",
            "7/7 [==============================] - 0s 3ms/step - loss: 0.6526 - accuracy: 0.8476\n",
            "Epoch 5/30\n",
            "7/7 [==============================] - 0s 3ms/step - loss: 0.4009 - accuracy: 0.8857\n",
            "Epoch 6/30\n",
            "7/7 [==============================] - 0s 3ms/step - loss: 0.2428 - accuracy: 0.9000\n",
            "Epoch 7/30\n",
            "7/7 [==============================] - 0s 3ms/step - loss: 0.1865 - accuracy: 0.9286\n",
            "Epoch 8/30\n",
            "7/7 [==============================] - 0s 3ms/step - loss: 0.1662 - accuracy: 0.9286\n",
            "Epoch 9/30\n",
            "7/7 [==============================] - 0s 3ms/step - loss: 0.1325 - accuracy: 0.9476\n",
            "Epoch 10/30\n",
            "7/7 [==============================] - 0s 3ms/step - loss: 0.1138 - accuracy: 0.9524\n",
            "Epoch 11/30\n",
            "7/7 [==============================] - 0s 3ms/step - loss: 0.0923 - accuracy: 0.9524\n",
            "Epoch 12/30\n",
            "7/7 [==============================] - 0s 3ms/step - loss: 0.0895 - accuracy: 0.9667\n",
            "Epoch 13/30\n",
            "7/7 [==============================] - 0s 3ms/step - loss: 0.0835 - accuracy: 0.9667\n",
            "Epoch 14/30\n",
            "7/7 [==============================] - 0s 3ms/step - loss: 0.0767 - accuracy: 0.9762\n",
            "Epoch 15/30\n",
            "7/7 [==============================] - 0s 3ms/step - loss: 0.0671 - accuracy: 0.9810\n",
            "Epoch 16/30\n",
            "7/7 [==============================] - 0s 5ms/step - loss: 0.0697 - accuracy: 0.9714\n",
            "Epoch 17/30\n",
            "7/7 [==============================] - 0s 4ms/step - loss: 0.0672 - accuracy: 0.9810\n",
            "Epoch 18/30\n",
            "7/7 [==============================] - 0s 3ms/step - loss: 0.0965 - accuracy: 0.9667\n",
            "Epoch 19/30\n",
            "7/7 [==============================] - 0s 4ms/step - loss: 0.0698 - accuracy: 0.9762\n",
            "Epoch 20/30\n",
            "7/7 [==============================] - 0s 3ms/step - loss: 0.0548 - accuracy: 0.9810\n",
            "Epoch 21/30\n",
            "7/7 [==============================] - 0s 3ms/step - loss: 0.0513 - accuracy: 0.9857\n",
            "Epoch 22/30\n",
            "7/7 [==============================] - 0s 3ms/step - loss: 0.0505 - accuracy: 0.9857\n",
            "Epoch 23/30\n",
            "7/7 [==============================] - 0s 4ms/step - loss: 0.0920 - accuracy: 0.9714\n",
            "Epoch 24/30\n",
            "7/7 [==============================] - 0s 4ms/step - loss: 0.0624 - accuracy: 0.9667\n",
            "Epoch 25/30\n",
            "7/7 [==============================] - 0s 3ms/step - loss: 0.0598 - accuracy: 0.9762\n",
            "Epoch 26/30\n",
            "7/7 [==============================] - 0s 4ms/step - loss: 0.0243 - accuracy: 0.9952\n",
            "Epoch 27/30\n",
            "7/7 [==============================] - 0s 4ms/step - loss: 0.0303 - accuracy: 0.9905\n",
            "Epoch 28/30\n",
            "7/7 [==============================] - 0s 5ms/step - loss: 0.0295 - accuracy: 0.9952\n",
            "Epoch 29/30\n",
            "7/7 [==============================] - 0s 4ms/step - loss: 0.0274 - accuracy: 0.9905\n",
            "Epoch 30/30\n",
            "7/7 [==============================] - 0s 3ms/step - loss: 0.0235 - accuracy: 0.9952\n"
          ]
        }
      ]
    },
    {
      "cell_type": "code",
      "source": [
        "plt.title('Train Loss values over 100 epochs:')\n",
        "plt.plot(hist.history['loss'],color='red',linewidth=2)\n",
        "plt.plot(hist.history['accuracy'],color='purple')\n",
        "\n",
        "plt.show()"
      ],
      "metadata": {
        "id": "ZVN2iXa3svPy",
        "colab": {
          "base_uri": "https://localhost:8080/",
          "height": 284
        },
        "outputId": "5f802925-1ae0-450f-9402-db19884e6a17"
      },
      "execution_count": null,
      "outputs": [
        {
          "output_type": "display_data",
          "data": {
            "text/plain": [
              "<Figure size 432x288 with 1 Axes>"
            ],
            "image/png": "[encoded data removed]"
          },
          "metadata": {}
        }
      ]
    },
    {
      "cell_type": "code",
      "source": [
        "Y_pred=model.predict(X_test)\n",
        "Y_pred=(Y_pred>0.5)*1"
      ],
      "metadata": {
        "id": "5ajpVm88svSb",
        "colab": {
          "base_uri": "https://localhost:8080/"
        },
        "outputId": "2e5463f9-1ac6-43f6-cf0e-0c8d2fb47c2d"
      },
      "execution_count": null,
      "outputs": [
        {
          "output_type": "stream",
          "name": "stdout",
          "text": [
            "WARNING:tensorflow:5 out of the last 13 calls to <function Model.make_predict_function.<locals>.predict_function at 0x7f085d4b3200> triggered tf.function retracing. Tracing is expensive and the excessive number of tracings could be due to (1) creating @tf.function repeatedly in a loop, (2) passing tensors with different shapes, (3) passing Python objects instead of tensors. For (1), please define your @tf.function outside of the loop. For (2), @tf.function has experimental_relax_shapes=True option that relaxes argument shapes that can avoid unnecessary retracing. For (3), please refer to https://www.tensorflow.org/guide/function#controlling_retracing and https://www.tensorflow.org/api_docs/python/tf/function for  more details.\n"
          ]
        }
      ]
    },
    {
      "cell_type": "code",
      "source": [
        "plt.figure(figsize=(10,8),dpi=80)\n",
        "sns.heatmap(confusion_matrix(Y_test,Y_pred),annot=True,cmap='Blues')\n",
        "plt.title('1 signifies dog sounds and 0 signifies cat sounds \\n'+'Accuracy:'+str(accuracy_score(Y_test,Y_pred)))\n",
        "plt.show()"
      ],
      "metadata": {
        "id": "wloGL5TCsvVz",
        "colab": {
          "base_uri": "https://localhost:8080/",
          "height": 571
        },
        "outputId": "5bb9ba34-783e-46dc-bedb-190cd4082c88"
      },
      "execution_count": null,
      "outputs": [
        {
          "output_type": "display_data",
          "data": {
            "text/plain": [
              "<Figure size 800x640 with 2 Axes>"
            ],
            "image/png": "[encoded data removed]"
          },
          "metadata": {}
        }
      ]
    },
    {
      "cell_type": "code",
      "source": [
        "\n",
        "\n",
        "\n",
        "print(classification_report(Y_test,Y_pred))\n"
      ],
      "metadata": {
        "id": "jhNo0y4Stf9I",
        "colab": {
          "base_uri": "https://localhost:8080/"
        },
        "outputId": "cf188fdb-6b95-4164-fc58-5e1d58876163"
      },
      "execution_count": null,
      "outputs": [
        {
          "output_type": "stream",
          "name": "stdout",
          "text": [
            "              precision    recall  f1-score   support\n",
            "\n",
            "           0       0.91      0.82      0.86        39\n",
            "           1       0.78      0.89      0.83        28\n",
            "\n",
            "    accuracy                           0.85        67\n",
            "   macro avg       0.85      0.86      0.85        67\n",
            "weighted avg       0.86      0.85      0.85        67\n",
            "\n"
          ]
        }
      ]
    }
  ]
}